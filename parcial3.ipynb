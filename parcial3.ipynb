{
  "nbformat": 4,
  "nbformat_minor": 0,
  "metadata": {
    "colab": {
      "name": "parcial3.ipynb",
      "provenance": [],
      "collapsed_sections": [],
      "authorship_tag": "ABX9TyPdUXERPg6Q/a8Xz8opA4qz",
      "include_colab_link": true
    },
    "kernelspec": {
      "name": "python3",
      "display_name": "Python 3"
    },
    "language_info": {
      "name": "python"
    }
  },
  "cells": [
    {
      "cell_type": "markdown",
      "metadata": {
        "id": "view-in-github",
        "colab_type": "text"
      },
      "source": [
        "<a href=\"https://colab.research.google.com/github/Luisa8424/Motor_de_Busqueda/blob/main/parcial3.ipynb\" target=\"_parent\"><img src=\"https://colab.research.google.com/assets/colab-badge.svg\" alt=\"Open In Colab\"/></a>"
      ]
    },
    {
      "cell_type": "code",
      "execution_count": null,
      "metadata": {
        "id": "lj4g3lq1Zvs1"
      },
      "outputs": [],
      "source": [
        ""
      ]
    },
    {
      "cell_type": "code",
      "source": [
        "from datetime import date\n",
        "\n",
        "class User:\n",
        "  userId:str\n",
        "  password:str\n",
        "  registerDate:date\n",
        "\n",
        "  def login(self):\n",
        "    print(\"Conexión Establecida\")\n",
        "\n",
        "class Administrador:\n",
        "  name:str\n",
        "  email:str\n",
        "  user:User\n",
        "\n",
        "\n",
        "  def updateproducts(self):\n",
        "    print(\"Actulizaciones ok\")\n",
        "\n",
        "class Costumer:\n",
        "  name:str\n",
        "  address:str\n",
        "  email:str\n",
        "  costumerId:str\n",
        "  accountBalance:float\n",
        "  usua:User\n",
        "\n",
        "  def regitro(self):\n",
        "    print(\"su resgistro se ha realizado con exito\")\n",
        "  \n",
        "  def purchase(self):\n",
        "    print(\"Estado ok\")\n",
        "\n",
        "class Order:\n",
        "  orderid:str\n",
        "  date:date\n",
        "  costumerName:str\n",
        "  costumerId:str\n",
        "\n",
        "  def _init_(self,costumer:Costumer):\n",
        "    self.usuario=costumer\n",
        "\n",
        "  def placeorder(self):\n",
        "    print(\"Se asignara una cola en la orden\")\n",
        "\n",
        "class OrderDetails:\n",
        "  orderid:str\n",
        "  productId:str\n",
        "  productName:str\n",
        "  quatity:int\n",
        "  unitCost:float\n",
        "  total:float\n",
        "\n",
        "  def _init_(self,order:Order):\n",
        "    self.Orden=order\n",
        "\n",
        "  def calculatetotal(self):\n",
        "    print(\"La cantitidad total es de: \")\n",
        "    "
      ],
      "metadata": {
        "id": "pIP6kFuBbEza"
      },
      "execution_count": null,
      "outputs": []
    },
    {
      "cell_type": "markdown",
      "source": [
        "Herencia\n"
      ],
      "metadata": {
        "id": "lUenxH79GONE"
      }
    },
    {
      "cell_type": "code",
      "source": [
        "class Persona():\n",
        "    nombre= string\n",
        "    nif= string\n",
        "    fechaNac=date\n",
        "\n",
        "\n",
        "class jugador(Persona):\n",
        "    numFed: int"
      ],
      "metadata": {
        "id": "6fbZe1V7GQ8P"
      },
      "execution_count": null,
      "outputs": []
    }
  ]
}