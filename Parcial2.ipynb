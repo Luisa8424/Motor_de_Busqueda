{
  "nbformat": 4,
  "nbformat_minor": 0,
  "metadata": {
    "colab": {
      "name": "Parcial2.ipynb",
      "provenance": [],
      "collapsed_sections": [],
      "authorship_tag": "ABX9TyPJboHmlXCabw019vz9p1MJ",
      "include_colab_link": true
    },
    "kernelspec": {
      "name": "python3",
      "display_name": "Python 3"
    },
    "language_info": {
      "name": "python"
    }
  },
  "cells": [
    {
      "cell_type": "markdown",
      "metadata": {
        "id": "view-in-github",
        "colab_type": "text"
      },
      "source": [
        "<a href=\"https://colab.research.google.com/github/Luisa8424/Motor_de_Busqueda/blob/master/Parcial2.ipynb\" target=\"_parent\"><img src=\"https://colab.research.google.com/assets/colab-badge.svg\" alt=\"Open In Colab\"/></a>"
      ]
    },
    {
      "cell_type": "code",
      "execution_count": null,
      "metadata": {
        "colab": {
          "base_uri": "https://localhost:8080/"
        },
        "id": "u_kUQ_WZ1ZV5",
        "outputId": "5589656e-b5ff-4a90-dfdf-368e30fdcb9b"
      },
      "outputs": [
        {
          "output_type": "stream",
          "name": "stdout",
          "text": [
            "[1, 4, 3, 2]\n"
          ]
        }
      ],
      "source": [
        "Matriz = [1,4,3,2]\n",
        "print(Matriz)"
      ]
    },
    {
      "cell_type": "code",
      "source": [
        "cantidad = 5\n",
        "print(f\"Relacionar la cantidad {cantidad} números:\")\n",
        "numeros = []\n",
        "for i in range(cantidad):\n",
        "    numero = input(f\"Ingresa el número {i + 1}: \")\n",
        "    numero = int(numero)\n",
        "    numeros.append(numero)"
      ],
      "metadata": {
        "colab": {
          "base_uri": "https://localhost:8080/"
        },
        "id": "mlYQoKRW27QB",
        "outputId": "391e57cd-3b84-4687-e315-c9df65d7d574"
      },
      "execution_count": null,
      "outputs": [
        {
          "name": "stdout",
          "output_type": "stream",
          "text": [
            "Relacionar la cantidad 5 números:\n",
            "Ingresa el número 1: 2\n",
            "Ingresa el número 2: 3\n",
            "Ingresa el número 3: 1\n",
            "Ingresa el número 4: 3\n",
            "Ingresa el número 5: 6\n"
          ]
        }
      ]
    }
  ]
}